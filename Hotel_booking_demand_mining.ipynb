{
 "cells": [
  {
   "cell_type": "markdown",
   "metadata": {},
   "source": [
    "# Hotel booking demand 数据分析与分类预测"
   ]
  },
  {
   "cell_type": "markdown",
   "metadata": {},
   "source": [
    "该数据集包含一个文件，用于比较两个酒店之间的各种预订信息：城市酒店和度假酒店。包括预订时间、入住时间、成人、儿童和/或婴儿数量以及可用停车位数量等信息。\n",
    "Github网址：https://github.com/zhangxin9988/Mutual_Evaluation3.git"
   ]
  },
  {
   "cell_type": "code",
   "execution_count": 1,
   "metadata": {},
   "outputs": [],
   "source": [
    "import pandas as pd\n",
    "import numpy as np\n",
    "import  matplotlib.pyplot as plt"
   ]
  },
  {
   "cell_type": "code",
   "execution_count": 3,
   "metadata": {},
   "outputs": [],
   "source": [
    "data_origin=pd.read_csv(\"C:/学习/办公/研究生课程/研一第二学期课程/数据挖掘/hotel_bookings.csv\")"
   ]
  },
  {
   "cell_type": "code",
   "execution_count": 4,
   "metadata": {},
   "outputs": [
    {
     "data": {
      "text/html": [
       "<div>\n",
       "<style scoped>\n",
       "    .dataframe tbody tr th:only-of-type {\n",
       "        vertical-align: middle;\n",
       "    }\n",
       "\n",
       "    .dataframe tbody tr th {\n",
       "        vertical-align: top;\n",
       "    }\n",
       "\n",
       "    .dataframe thead th {\n",
       "        text-align: right;\n",
       "    }\n",
       "</style>\n",
       "<table border=\"1\" class=\"dataframe\">\n",
       "  <thead>\n",
       "    <tr style=\"text-align: right;\">\n",
       "      <th></th>\n",
       "      <th>hotel</th>\n",
       "      <th>is_canceled</th>\n",
       "      <th>lead_time</th>\n",
       "      <th>arrival_date_year</th>\n",
       "      <th>arrival_date_month</th>\n",
       "      <th>arrival_date_week_number</th>\n",
       "      <th>arrival_date_day_of_month</th>\n",
       "      <th>stays_in_weekend_nights</th>\n",
       "      <th>stays_in_week_nights</th>\n",
       "      <th>adults</th>\n",
       "      <th>...</th>\n",
       "      <th>deposit_type</th>\n",
       "      <th>agent</th>\n",
       "      <th>company</th>\n",
       "      <th>days_in_waiting_list</th>\n",
       "      <th>customer_type</th>\n",
       "      <th>adr</th>\n",
       "      <th>required_car_parking_spaces</th>\n",
       "      <th>total_of_special_requests</th>\n",
       "      <th>reservation_status</th>\n",
       "      <th>reservation_status_date</th>\n",
       "    </tr>\n",
       "  </thead>\n",
       "  <tbody>\n",
       "    <tr>\n",
       "      <td>0</td>\n",
       "      <td>Resort Hotel</td>\n",
       "      <td>0</td>\n",
       "      <td>342</td>\n",
       "      <td>2015</td>\n",
       "      <td>July</td>\n",
       "      <td>27</td>\n",
       "      <td>1</td>\n",
       "      <td>0</td>\n",
       "      <td>0</td>\n",
       "      <td>2</td>\n",
       "      <td>...</td>\n",
       "      <td>No Deposit</td>\n",
       "      <td>NaN</td>\n",
       "      <td>NaN</td>\n",
       "      <td>0</td>\n",
       "      <td>Transient</td>\n",
       "      <td>0.0</td>\n",
       "      <td>0</td>\n",
       "      <td>0</td>\n",
       "      <td>Check-Out</td>\n",
       "      <td>2015-07-01</td>\n",
       "    </tr>\n",
       "    <tr>\n",
       "      <td>1</td>\n",
       "      <td>Resort Hotel</td>\n",
       "      <td>0</td>\n",
       "      <td>737</td>\n",
       "      <td>2015</td>\n",
       "      <td>July</td>\n",
       "      <td>27</td>\n",
       "      <td>1</td>\n",
       "      <td>0</td>\n",
       "      <td>0</td>\n",
       "      <td>2</td>\n",
       "      <td>...</td>\n",
       "      <td>No Deposit</td>\n",
       "      <td>NaN</td>\n",
       "      <td>NaN</td>\n",
       "      <td>0</td>\n",
       "      <td>Transient</td>\n",
       "      <td>0.0</td>\n",
       "      <td>0</td>\n",
       "      <td>0</td>\n",
       "      <td>Check-Out</td>\n",
       "      <td>2015-07-01</td>\n",
       "    </tr>\n",
       "    <tr>\n",
       "      <td>2</td>\n",
       "      <td>Resort Hotel</td>\n",
       "      <td>0</td>\n",
       "      <td>7</td>\n",
       "      <td>2015</td>\n",
       "      <td>July</td>\n",
       "      <td>27</td>\n",
       "      <td>1</td>\n",
       "      <td>0</td>\n",
       "      <td>1</td>\n",
       "      <td>1</td>\n",
       "      <td>...</td>\n",
       "      <td>No Deposit</td>\n",
       "      <td>NaN</td>\n",
       "      <td>NaN</td>\n",
       "      <td>0</td>\n",
       "      <td>Transient</td>\n",
       "      <td>75.0</td>\n",
       "      <td>0</td>\n",
       "      <td>0</td>\n",
       "      <td>Check-Out</td>\n",
       "      <td>2015-07-02</td>\n",
       "    </tr>\n",
       "    <tr>\n",
       "      <td>3</td>\n",
       "      <td>Resort Hotel</td>\n",
       "      <td>0</td>\n",
       "      <td>13</td>\n",
       "      <td>2015</td>\n",
       "      <td>July</td>\n",
       "      <td>27</td>\n",
       "      <td>1</td>\n",
       "      <td>0</td>\n",
       "      <td>1</td>\n",
       "      <td>1</td>\n",
       "      <td>...</td>\n",
       "      <td>No Deposit</td>\n",
       "      <td>304.0</td>\n",
       "      <td>NaN</td>\n",
       "      <td>0</td>\n",
       "      <td>Transient</td>\n",
       "      <td>75.0</td>\n",
       "      <td>0</td>\n",
       "      <td>0</td>\n",
       "      <td>Check-Out</td>\n",
       "      <td>2015-07-02</td>\n",
       "    </tr>\n",
       "    <tr>\n",
       "      <td>4</td>\n",
       "      <td>Resort Hotel</td>\n",
       "      <td>0</td>\n",
       "      <td>14</td>\n",
       "      <td>2015</td>\n",
       "      <td>July</td>\n",
       "      <td>27</td>\n",
       "      <td>1</td>\n",
       "      <td>0</td>\n",
       "      <td>2</td>\n",
       "      <td>2</td>\n",
       "      <td>...</td>\n",
       "      <td>No Deposit</td>\n",
       "      <td>240.0</td>\n",
       "      <td>NaN</td>\n",
       "      <td>0</td>\n",
       "      <td>Transient</td>\n",
       "      <td>98.0</td>\n",
       "      <td>0</td>\n",
       "      <td>1</td>\n",
       "      <td>Check-Out</td>\n",
       "      <td>2015-07-03</td>\n",
       "    </tr>\n",
       "    <tr>\n",
       "      <td>5</td>\n",
       "      <td>Resort Hotel</td>\n",
       "      <td>0</td>\n",
       "      <td>14</td>\n",
       "      <td>2015</td>\n",
       "      <td>July</td>\n",
       "      <td>27</td>\n",
       "      <td>1</td>\n",
       "      <td>0</td>\n",
       "      <td>2</td>\n",
       "      <td>2</td>\n",
       "      <td>...</td>\n",
       "      <td>No Deposit</td>\n",
       "      <td>240.0</td>\n",
       "      <td>NaN</td>\n",
       "      <td>0</td>\n",
       "      <td>Transient</td>\n",
       "      <td>98.0</td>\n",
       "      <td>0</td>\n",
       "      <td>1</td>\n",
       "      <td>Check-Out</td>\n",
       "      <td>2015-07-03</td>\n",
       "    </tr>\n",
       "    <tr>\n",
       "      <td>6</td>\n",
       "      <td>Resort Hotel</td>\n",
       "      <td>0</td>\n",
       "      <td>0</td>\n",
       "      <td>2015</td>\n",
       "      <td>July</td>\n",
       "      <td>27</td>\n",
       "      <td>1</td>\n",
       "      <td>0</td>\n",
       "      <td>2</td>\n",
       "      <td>2</td>\n",
       "      <td>...</td>\n",
       "      <td>No Deposit</td>\n",
       "      <td>NaN</td>\n",
       "      <td>NaN</td>\n",
       "      <td>0</td>\n",
       "      <td>Transient</td>\n",
       "      <td>107.0</td>\n",
       "      <td>0</td>\n",
       "      <td>0</td>\n",
       "      <td>Check-Out</td>\n",
       "      <td>2015-07-03</td>\n",
       "    </tr>\n",
       "    <tr>\n",
       "      <td>7</td>\n",
       "      <td>Resort Hotel</td>\n",
       "      <td>0</td>\n",
       "      <td>9</td>\n",
       "      <td>2015</td>\n",
       "      <td>July</td>\n",
       "      <td>27</td>\n",
       "      <td>1</td>\n",
       "      <td>0</td>\n",
       "      <td>2</td>\n",
       "      <td>2</td>\n",
       "      <td>...</td>\n",
       "      <td>No Deposit</td>\n",
       "      <td>303.0</td>\n",
       "      <td>NaN</td>\n",
       "      <td>0</td>\n",
       "      <td>Transient</td>\n",
       "      <td>103.0</td>\n",
       "      <td>0</td>\n",
       "      <td>1</td>\n",
       "      <td>Check-Out</td>\n",
       "      <td>2015-07-03</td>\n",
       "    </tr>\n",
       "    <tr>\n",
       "      <td>8</td>\n",
       "      <td>Resort Hotel</td>\n",
       "      <td>1</td>\n",
       "      <td>85</td>\n",
       "      <td>2015</td>\n",
       "      <td>July</td>\n",
       "      <td>27</td>\n",
       "      <td>1</td>\n",
       "      <td>0</td>\n",
       "      <td>3</td>\n",
       "      <td>2</td>\n",
       "      <td>...</td>\n",
       "      <td>No Deposit</td>\n",
       "      <td>240.0</td>\n",
       "      <td>NaN</td>\n",
       "      <td>0</td>\n",
       "      <td>Transient</td>\n",
       "      <td>82.0</td>\n",
       "      <td>0</td>\n",
       "      <td>1</td>\n",
       "      <td>Canceled</td>\n",
       "      <td>2015-05-06</td>\n",
       "    </tr>\n",
       "    <tr>\n",
       "      <td>9</td>\n",
       "      <td>Resort Hotel</td>\n",
       "      <td>1</td>\n",
       "      <td>75</td>\n",
       "      <td>2015</td>\n",
       "      <td>July</td>\n",
       "      <td>27</td>\n",
       "      <td>1</td>\n",
       "      <td>0</td>\n",
       "      <td>3</td>\n",
       "      <td>2</td>\n",
       "      <td>...</td>\n",
       "      <td>No Deposit</td>\n",
       "      <td>15.0</td>\n",
       "      <td>NaN</td>\n",
       "      <td>0</td>\n",
       "      <td>Transient</td>\n",
       "      <td>105.5</td>\n",
       "      <td>0</td>\n",
       "      <td>0</td>\n",
       "      <td>Canceled</td>\n",
       "      <td>2015-04-22</td>\n",
       "    </tr>\n",
       "  </tbody>\n",
       "</table>\n",
       "<p>10 rows × 32 columns</p>\n",
       "</div>"
      ],
      "text/plain": [
       "          hotel  is_canceled  lead_time  arrival_date_year arrival_date_month  \\\n",
       "0  Resort Hotel            0        342               2015               July   \n",
       "1  Resort Hotel            0        737               2015               July   \n",
       "2  Resort Hotel            0          7               2015               July   \n",
       "3  Resort Hotel            0         13               2015               July   \n",
       "4  Resort Hotel            0         14               2015               July   \n",
       "5  Resort Hotel            0         14               2015               July   \n",
       "6  Resort Hotel            0          0               2015               July   \n",
       "7  Resort Hotel            0          9               2015               July   \n",
       "8  Resort Hotel            1         85               2015               July   \n",
       "9  Resort Hotel            1         75               2015               July   \n",
       "\n",
       "   arrival_date_week_number  arrival_date_day_of_month  \\\n",
       "0                        27                          1   \n",
       "1                        27                          1   \n",
       "2                        27                          1   \n",
       "3                        27                          1   \n",
       "4                        27                          1   \n",
       "5                        27                          1   \n",
       "6                        27                          1   \n",
       "7                        27                          1   \n",
       "8                        27                          1   \n",
       "9                        27                          1   \n",
       "\n",
       "   stays_in_weekend_nights  stays_in_week_nights  adults  ...  deposit_type  \\\n",
       "0                        0                     0       2  ...    No Deposit   \n",
       "1                        0                     0       2  ...    No Deposit   \n",
       "2                        0                     1       1  ...    No Deposit   \n",
       "3                        0                     1       1  ...    No Deposit   \n",
       "4                        0                     2       2  ...    No Deposit   \n",
       "5                        0                     2       2  ...    No Deposit   \n",
       "6                        0                     2       2  ...    No Deposit   \n",
       "7                        0                     2       2  ...    No Deposit   \n",
       "8                        0                     3       2  ...    No Deposit   \n",
       "9                        0                     3       2  ...    No Deposit   \n",
       "\n",
       "   agent company days_in_waiting_list customer_type    adr  \\\n",
       "0    NaN     NaN                    0     Transient    0.0   \n",
       "1    NaN     NaN                    0     Transient    0.0   \n",
       "2    NaN     NaN                    0     Transient   75.0   \n",
       "3  304.0     NaN                    0     Transient   75.0   \n",
       "4  240.0     NaN                    0     Transient   98.0   \n",
       "5  240.0     NaN                    0     Transient   98.0   \n",
       "6    NaN     NaN                    0     Transient  107.0   \n",
       "7  303.0     NaN                    0     Transient  103.0   \n",
       "8  240.0     NaN                    0     Transient   82.0   \n",
       "9   15.0     NaN                    0     Transient  105.5   \n",
       "\n",
       "   required_car_parking_spaces  total_of_special_requests  reservation_status  \\\n",
       "0                            0                          0           Check-Out   \n",
       "1                            0                          0           Check-Out   \n",
       "2                            0                          0           Check-Out   \n",
       "3                            0                          0           Check-Out   \n",
       "4                            0                          1           Check-Out   \n",
       "5                            0                          1           Check-Out   \n",
       "6                            0                          0           Check-Out   \n",
       "7                            0                          1           Check-Out   \n",
       "8                            0                          1            Canceled   \n",
       "9                            0                          0            Canceled   \n",
       "\n",
       "  reservation_status_date  \n",
       "0              2015-07-01  \n",
       "1              2015-07-01  \n",
       "2              2015-07-02  \n",
       "3              2015-07-02  \n",
       "4              2015-07-03  \n",
       "5              2015-07-03  \n",
       "6              2015-07-03  \n",
       "7              2015-07-03  \n",
       "8              2015-05-06  \n",
       "9              2015-04-22  \n",
       "\n",
       "[10 rows x 32 columns]"
      ]
     },
     "execution_count": 4,
     "metadata": {},
     "output_type": "execute_result"
    }
   ],
   "source": [
    "data_origin.head(10)"
   ]
  },
  {
   "cell_type": "code",
   "execution_count": 5,
   "metadata": {},
   "outputs": [],
   "source": [
    "#该数据集一共有32列，我们没有对所有的列进行分析，而是选出一部分。\n",
    "data=pd.DataFrame(data_origin[['hotel','is_canceled','arrival_date_year','arrival_date_month','arrival_date_day_of_month','meal','previous_bookings_not_canceled','reserved_room_type','customer_type','adr','reservation_status','reservation_status_date']])"
   ]
  },
  {
   "cell_type": "code",
   "execution_count": 6,
   "metadata": {},
   "outputs": [
    {
     "data": {
      "text/html": [
       "<div>\n",
       "<style scoped>\n",
       "    .dataframe tbody tr th:only-of-type {\n",
       "        vertical-align: middle;\n",
       "    }\n",
       "\n",
       "    .dataframe tbody tr th {\n",
       "        vertical-align: top;\n",
       "    }\n",
       "\n",
       "    .dataframe thead th {\n",
       "        text-align: right;\n",
       "    }\n",
       "</style>\n",
       "<table border=\"1\" class=\"dataframe\">\n",
       "  <thead>\n",
       "    <tr style=\"text-align: right;\">\n",
       "      <th></th>\n",
       "      <th>hotel</th>\n",
       "      <th>is_canceled</th>\n",
       "      <th>arrival_date_year</th>\n",
       "      <th>arrival_date_month</th>\n",
       "      <th>arrival_date_day_of_month</th>\n",
       "      <th>meal</th>\n",
       "      <th>previous_bookings_not_canceled</th>\n",
       "      <th>reserved_room_type</th>\n",
       "      <th>customer_type</th>\n",
       "      <th>adr</th>\n",
       "      <th>reservation_status</th>\n",
       "      <th>reservation_status_date</th>\n",
       "    </tr>\n",
       "  </thead>\n",
       "  <tbody>\n",
       "    <tr>\n",
       "      <td>0</td>\n",
       "      <td>Resort Hotel</td>\n",
       "      <td>0</td>\n",
       "      <td>2015</td>\n",
       "      <td>July</td>\n",
       "      <td>1</td>\n",
       "      <td>BB</td>\n",
       "      <td>0</td>\n",
       "      <td>C</td>\n",
       "      <td>Transient</td>\n",
       "      <td>0.0</td>\n",
       "      <td>Check-Out</td>\n",
       "      <td>2015-07-01</td>\n",
       "    </tr>\n",
       "    <tr>\n",
       "      <td>1</td>\n",
       "      <td>Resort Hotel</td>\n",
       "      <td>0</td>\n",
       "      <td>2015</td>\n",
       "      <td>July</td>\n",
       "      <td>1</td>\n",
       "      <td>BB</td>\n",
       "      <td>0</td>\n",
       "      <td>C</td>\n",
       "      <td>Transient</td>\n",
       "      <td>0.0</td>\n",
       "      <td>Check-Out</td>\n",
       "      <td>2015-07-01</td>\n",
       "    </tr>\n",
       "    <tr>\n",
       "      <td>2</td>\n",
       "      <td>Resort Hotel</td>\n",
       "      <td>0</td>\n",
       "      <td>2015</td>\n",
       "      <td>July</td>\n",
       "      <td>1</td>\n",
       "      <td>BB</td>\n",
       "      <td>0</td>\n",
       "      <td>A</td>\n",
       "      <td>Transient</td>\n",
       "      <td>75.0</td>\n",
       "      <td>Check-Out</td>\n",
       "      <td>2015-07-02</td>\n",
       "    </tr>\n",
       "    <tr>\n",
       "      <td>3</td>\n",
       "      <td>Resort Hotel</td>\n",
       "      <td>0</td>\n",
       "      <td>2015</td>\n",
       "      <td>July</td>\n",
       "      <td>1</td>\n",
       "      <td>BB</td>\n",
       "      <td>0</td>\n",
       "      <td>A</td>\n",
       "      <td>Transient</td>\n",
       "      <td>75.0</td>\n",
       "      <td>Check-Out</td>\n",
       "      <td>2015-07-02</td>\n",
       "    </tr>\n",
       "    <tr>\n",
       "      <td>4</td>\n",
       "      <td>Resort Hotel</td>\n",
       "      <td>0</td>\n",
       "      <td>2015</td>\n",
       "      <td>July</td>\n",
       "      <td>1</td>\n",
       "      <td>BB</td>\n",
       "      <td>0</td>\n",
       "      <td>A</td>\n",
       "      <td>Transient</td>\n",
       "      <td>98.0</td>\n",
       "      <td>Check-Out</td>\n",
       "      <td>2015-07-03</td>\n",
       "    </tr>\n",
       "    <tr>\n",
       "      <td>5</td>\n",
       "      <td>Resort Hotel</td>\n",
       "      <td>0</td>\n",
       "      <td>2015</td>\n",
       "      <td>July</td>\n",
       "      <td>1</td>\n",
       "      <td>BB</td>\n",
       "      <td>0</td>\n",
       "      <td>A</td>\n",
       "      <td>Transient</td>\n",
       "      <td>98.0</td>\n",
       "      <td>Check-Out</td>\n",
       "      <td>2015-07-03</td>\n",
       "    </tr>\n",
       "    <tr>\n",
       "      <td>6</td>\n",
       "      <td>Resort Hotel</td>\n",
       "      <td>0</td>\n",
       "      <td>2015</td>\n",
       "      <td>July</td>\n",
       "      <td>1</td>\n",
       "      <td>BB</td>\n",
       "      <td>0</td>\n",
       "      <td>C</td>\n",
       "      <td>Transient</td>\n",
       "      <td>107.0</td>\n",
       "      <td>Check-Out</td>\n",
       "      <td>2015-07-03</td>\n",
       "    </tr>\n",
       "    <tr>\n",
       "      <td>7</td>\n",
       "      <td>Resort Hotel</td>\n",
       "      <td>0</td>\n",
       "      <td>2015</td>\n",
       "      <td>July</td>\n",
       "      <td>1</td>\n",
       "      <td>FB</td>\n",
       "      <td>0</td>\n",
       "      <td>C</td>\n",
       "      <td>Transient</td>\n",
       "      <td>103.0</td>\n",
       "      <td>Check-Out</td>\n",
       "      <td>2015-07-03</td>\n",
       "    </tr>\n",
       "    <tr>\n",
       "      <td>8</td>\n",
       "      <td>Resort Hotel</td>\n",
       "      <td>1</td>\n",
       "      <td>2015</td>\n",
       "      <td>July</td>\n",
       "      <td>1</td>\n",
       "      <td>BB</td>\n",
       "      <td>0</td>\n",
       "      <td>A</td>\n",
       "      <td>Transient</td>\n",
       "      <td>82.0</td>\n",
       "      <td>Canceled</td>\n",
       "      <td>2015-05-06</td>\n",
       "    </tr>\n",
       "    <tr>\n",
       "      <td>9</td>\n",
       "      <td>Resort Hotel</td>\n",
       "      <td>1</td>\n",
       "      <td>2015</td>\n",
       "      <td>July</td>\n",
       "      <td>1</td>\n",
       "      <td>HB</td>\n",
       "      <td>0</td>\n",
       "      <td>D</td>\n",
       "      <td>Transient</td>\n",
       "      <td>105.5</td>\n",
       "      <td>Canceled</td>\n",
       "      <td>2015-04-22</td>\n",
       "    </tr>\n",
       "  </tbody>\n",
       "</table>\n",
       "</div>"
      ],
      "text/plain": [
       "          hotel  is_canceled  arrival_date_year arrival_date_month  \\\n",
       "0  Resort Hotel            0               2015               July   \n",
       "1  Resort Hotel            0               2015               July   \n",
       "2  Resort Hotel            0               2015               July   \n",
       "3  Resort Hotel            0               2015               July   \n",
       "4  Resort Hotel            0               2015               July   \n",
       "5  Resort Hotel            0               2015               July   \n",
       "6  Resort Hotel            0               2015               July   \n",
       "7  Resort Hotel            0               2015               July   \n",
       "8  Resort Hotel            1               2015               July   \n",
       "9  Resort Hotel            1               2015               July   \n",
       "\n",
       "   arrival_date_day_of_month meal  previous_bookings_not_canceled  \\\n",
       "0                          1   BB                               0   \n",
       "1                          1   BB                               0   \n",
       "2                          1   BB                               0   \n",
       "3                          1   BB                               0   \n",
       "4                          1   BB                               0   \n",
       "5                          1   BB                               0   \n",
       "6                          1   BB                               0   \n",
       "7                          1   FB                               0   \n",
       "8                          1   BB                               0   \n",
       "9                          1   HB                               0   \n",
       "\n",
       "  reserved_room_type customer_type    adr reservation_status  \\\n",
       "0                  C     Transient    0.0          Check-Out   \n",
       "1                  C     Transient    0.0          Check-Out   \n",
       "2                  A     Transient   75.0          Check-Out   \n",
       "3                  A     Transient   75.0          Check-Out   \n",
       "4                  A     Transient   98.0          Check-Out   \n",
       "5                  A     Transient   98.0          Check-Out   \n",
       "6                  C     Transient  107.0          Check-Out   \n",
       "7                  C     Transient  103.0          Check-Out   \n",
       "8                  A     Transient   82.0           Canceled   \n",
       "9                  D     Transient  105.5           Canceled   \n",
       "\n",
       "  reservation_status_date  \n",
       "0              2015-07-01  \n",
       "1              2015-07-01  \n",
       "2              2015-07-02  \n",
       "3              2015-07-02  \n",
       "4              2015-07-03  \n",
       "5              2015-07-03  \n",
       "6              2015-07-03  \n",
       "7              2015-07-03  \n",
       "8              2015-05-06  \n",
       "9              2015-04-22  "
      ]
     },
     "execution_count": 6,
     "metadata": {},
     "output_type": "execute_result"
    }
   ],
   "source": [
    "data.head(10)"
   ]
  },
  {
   "cell_type": "markdown",
   "metadata": {},
   "source": [
    "## 1.基本情况：城市酒店和假日酒店预订需求和入住率比较；"
   ]
  },
  {
   "cell_type": "markdown",
   "metadata": {},
   "source": [
    "### 1.1预订需求比较"
   ]
  },
  {
   "cell_type": "code",
   "execution_count": 7,
   "metadata": {},
   "outputs": [],
   "source": [
    "data.replace('Undefined','SC',inplace=True) #将meal一列值为Undefined全部替换为SC\n",
    "#将两个酒店的数据分开保存，方便后续的比较\n",
    "data_rh=data[(data.hotel=='Resort Hotel') ]\n",
    "data_ch=data[(data.hotel=='City Hotel') ]"
   ]
  },
  {
   "cell_type": "code",
   "execution_count": 40,
   "metadata": {},
   "outputs": [
    {
     "name": "stdout",
     "output_type": "stream",
     "text": [
      "['A', 'B', 'C', 'D', 'E', 'F', 'G', 'H', 'L', 'P']\n"
     ]
    },
    {
     "data": {
      "text/plain": [
       "([<matplotlib.axis.XTick at 0x2124fbd5bc8>,\n",
       "  <matplotlib.axis.XTick at 0x2124f597048>,\n",
       "  <matplotlib.axis.XTick at 0x2124fbd52c8>,\n",
       "  <matplotlib.axis.XTick at 0x212500b0288>,\n",
       "  <matplotlib.axis.XTick at 0x212500b0808>,\n",
       "  <matplotlib.axis.XTick at 0x212500b51c8>,\n",
       "  <matplotlib.axis.XTick at 0x212500b0fc8>,\n",
       "  <matplotlib.axis.XTick at 0x212500b5908>,\n",
       "  <matplotlib.axis.XTick at 0x212500ba108>,\n",
       "  <matplotlib.axis.XTick at 0x212500baa08>],\n",
       " <a list of 10 Text xticklabel objects>)"
      ]
     },
     "execution_count": 40,
     "metadata": {},
     "output_type": "execute_result"
    },
    {
     "data": {
      "image/png": "[encoded data removed]",
      "text/plain": [
       "<Figure size 1440x576 with 1 Axes>"
      ]
     },
     "metadata": {
      "needs_background": "light"
     },
     "output_type": "display_data"
    }
   ],
   "source": [
    "#预订房间类型比较\n",
    "plt.figure(figsize=(20, 8))\n",
    "room_type=set(list(data_rh.reserved_room_type.value_counts().index)+list(data_ch.reserved_room_type.value_counts().index))\n",
    "room_type=sorted(list(room_type))\n",
    "print(room_type)\n",
    "x=np.arange(len(room_type))\n",
    "bar_width=0.3\n",
    "plt.bar(x,data_rh.reserved_room_type.value_counts()[room_type],bar_width,color='r', label='Resort Hotel') \n",
    "plt.bar(x+bar_width,data_ch.reserved_room_type.value_counts()[room_type],bar_width,color='y', label='City Hotel')\n",
    "plt.xlabel('reserved_room_type')\n",
    "plt.ylabel('numbers')\n",
    "plt.legend(['Resort Hotel','City Hotel'])  \n",
    "plt.xticks(x+bar_width/2,room_type) "
   ]
  },
  {
   "cell_type": "markdown",
   "metadata": {},
   "source": [
    "上图说明人们在预订假日酒店或城市酒店时的预定A类房间的占比很大，其次是D类房间。对于假日酒店的第三选择，更多的人选择E类；而对于城市酒店的第三选择，更多的人选择F类。"
   ]
  },
  {
   "cell_type": "markdown",
   "metadata": {},
   "source": [
    "### 1.2入住率比较"
   ]
  },
  {
   "cell_type": "code",
   "execution_count": 41,
   "metadata": {},
   "outputs": [
    {
     "name": "stdout",
     "output_type": "stream",
     "text": [
      "假日酒店的入住率=0.722\n",
      "城市酒店的入住率=0.583\n"
     ]
    }
   ],
   "source": [
    "#入住率=预定未取消记录数/总记录数\n",
    "occupancy_rh=data_rh[data_rh.is_canceled==0].is_canceled.count()/data_rh.is_canceled.count()\n",
    "occupancy_ch=data_ch[data_ch.is_canceled==0].is_canceled.count()/data_ch.is_canceled.count()\n",
    "print('假日酒店的入住率={:.3}'.format(occupancy_rh))\n",
    "print('城市酒店的入住率={:.3}'.format(occupancy_ch))"
   ]
  },
  {
   "cell_type": "markdown",
   "metadata": {},
   "source": [
    "## 2.用户行为：提前预订时间、入住时长、预订间隔、餐食预订情况分析"
   ]
  },
  {
   "cell_type": "markdown",
   "metadata": {},
   "source": [
    "### 2.1.提前预订时间分析"
   ]
  },
  {
   "cell_type": "code",
   "execution_count": 42,
   "metadata": {},
   "outputs": [],
   "source": [
    "data_lead=data_origin[['hotel','is_canceled','lead_time'  ]]\n",
    "data_lead_rh=data_lead[(data_lead.hotel=='Resort Hotel')& data_lead.is_canceled==0]\n",
    "data_lead_ch=data_lead[(data_lead.hotel=='City Hotel')& data_lead.is_canceled==0]"
   ]
  },
  {
   "cell_type": "code",
   "execution_count": 53,
   "metadata": {},
   "outputs": [
    {
     "data": {
      "text/plain": [
       "Text(0, 0.5, 'counts')"
      ]
     },
     "execution_count": 53,
     "metadata": {},
     "output_type": "execute_result"
    },
    {
     "data": {
      "image/png": "[encoded data removed]",
      "text/plain": [
       "<Figure size 1296x576 with 1 Axes>"
      ]
     },
     "metadata": {
      "needs_background": "light"
     },
     "output_type": "display_data"
    }
   ],
   "source": [
    "#绘制假日酒店和城市酒店提前预订时间与对应记录条数的散点图\n",
    "plt.figure(figsize=(18, 8))\n",
    "rh_lead_time=data_lead_rh.lead_time.value_counts().sort_index()\n",
    "ch_lead_time=data_lead_ch.lead_time.value_counts().sort_index()\n",
    "plt.plot(rh_lead_time[0:20].index,rh_lead_time[0:20],marker='o',label='Resort Hotel')\n",
    "plt.plot(ch_lead_time[0:20].index,ch_lead_time[0:20],marker='v',label='City Hotel')\n",
    "plt.legend() \n",
    "plt.xlabel('lead_time')  \n",
    "plt.ylabel('counts')  "
   ]
  },
  {
   "cell_type": "markdown",
   "metadata": {},
   "source": [
    "从上图可以看出，大部分人会选择提前五天订购房间"
   ]
  },
  {
   "cell_type": "markdown",
   "metadata": {},
   "source": [
    "### 2.2.入住时长分析  入住时长=预订最后状态时间-到达时间"
   ]
  },
  {
   "cell_type": "code",
   "execution_count": 55,
   "metadata": {},
   "outputs": [],
   "source": [
    "data_bookdate=pd.DataFrame(data[['arrival_date_year','arrival_date_month','arrival_date_day_of_month','reservation_status_date']])"
   ]
  },
  {
   "cell_type": "code",
   "execution_count": 56,
   "metadata": {},
   "outputs": [
    {
     "data": {
      "text/html": [
       "<div>\n",
       "<style scoped>\n",
       "    .dataframe tbody tr th:only-of-type {\n",
       "        vertical-align: middle;\n",
       "    }\n",
       "\n",
       "    .dataframe tbody tr th {\n",
       "        vertical-align: top;\n",
       "    }\n",
       "\n",
       "    .dataframe thead th {\n",
       "        text-align: right;\n",
       "    }\n",
       "</style>\n",
       "<table border=\"1\" class=\"dataframe\">\n",
       "  <thead>\n",
       "    <tr style=\"text-align: right;\">\n",
       "      <th></th>\n",
       "      <th>arrival_date_year</th>\n",
       "      <th>arrival_date_month</th>\n",
       "      <th>arrival_date_day_of_month</th>\n",
       "      <th>reservation_status_date</th>\n",
       "    </tr>\n",
       "  </thead>\n",
       "  <tbody>\n",
       "    <tr>\n",
       "      <td>0</td>\n",
       "      <td>2015</td>\n",
       "      <td>July</td>\n",
       "      <td>1</td>\n",
       "      <td>2015-07-01</td>\n",
       "    </tr>\n",
       "    <tr>\n",
       "      <td>1</td>\n",
       "      <td>2015</td>\n",
       "      <td>July</td>\n",
       "      <td>1</td>\n",
       "      <td>2015-07-01</td>\n",
       "    </tr>\n",
       "    <tr>\n",
       "      <td>2</td>\n",
       "      <td>2015</td>\n",
       "      <td>July</td>\n",
       "      <td>1</td>\n",
       "      <td>2015-07-02</td>\n",
       "    </tr>\n",
       "    <tr>\n",
       "      <td>3</td>\n",
       "      <td>2015</td>\n",
       "      <td>July</td>\n",
       "      <td>1</td>\n",
       "      <td>2015-07-02</td>\n",
       "    </tr>\n",
       "    <tr>\n",
       "      <td>4</td>\n",
       "      <td>2015</td>\n",
       "      <td>July</td>\n",
       "      <td>1</td>\n",
       "      <td>2015-07-03</td>\n",
       "    </tr>\n",
       "    <tr>\n",
       "      <td>5</td>\n",
       "      <td>2015</td>\n",
       "      <td>July</td>\n",
       "      <td>1</td>\n",
       "      <td>2015-07-03</td>\n",
       "    </tr>\n",
       "    <tr>\n",
       "      <td>6</td>\n",
       "      <td>2015</td>\n",
       "      <td>July</td>\n",
       "      <td>1</td>\n",
       "      <td>2015-07-03</td>\n",
       "    </tr>\n",
       "    <tr>\n",
       "      <td>7</td>\n",
       "      <td>2015</td>\n",
       "      <td>July</td>\n",
       "      <td>1</td>\n",
       "      <td>2015-07-03</td>\n",
       "    </tr>\n",
       "    <tr>\n",
       "      <td>8</td>\n",
       "      <td>2015</td>\n",
       "      <td>July</td>\n",
       "      <td>1</td>\n",
       "      <td>2015-05-06</td>\n",
       "    </tr>\n",
       "    <tr>\n",
       "      <td>9</td>\n",
       "      <td>2015</td>\n",
       "      <td>July</td>\n",
       "      <td>1</td>\n",
       "      <td>2015-04-22</td>\n",
       "    </tr>\n",
       "  </tbody>\n",
       "</table>\n",
       "</div>"
      ],
      "text/plain": [
       "   arrival_date_year arrival_date_month  arrival_date_day_of_month  \\\n",
       "0               2015               July                          1   \n",
       "1               2015               July                          1   \n",
       "2               2015               July                          1   \n",
       "3               2015               July                          1   \n",
       "4               2015               July                          1   \n",
       "5               2015               July                          1   \n",
       "6               2015               July                          1   \n",
       "7               2015               July                          1   \n",
       "8               2015               July                          1   \n",
       "9               2015               July                          1   \n",
       "\n",
       "  reservation_status_date  \n",
       "0              2015-07-01  \n",
       "1              2015-07-01  \n",
       "2              2015-07-02  \n",
       "3              2015-07-02  \n",
       "4              2015-07-03  \n",
       "5              2015-07-03  \n",
       "6              2015-07-03  \n",
       "7              2015-07-03  \n",
       "8              2015-05-06  \n",
       "9              2015-04-22  "
      ]
     },
     "execution_count": 56,
     "metadata": {},
     "output_type": "execute_result"
    }
   ],
   "source": [
    "data_bookdate.head(10)"
   ]
  },
  {
   "cell_type": "code",
   "execution_count": 57,
   "metadata": {},
   "outputs": [],
   "source": [
    "#将月份表示为字符串\n",
    "class_mapping = {'January': 1, 'February': 2, 'March': 3, 'April': 4, 'May': 5, 'June': 6, 'July': 7, 'August': 8, 'September': 9,'October': 10,'November': 11,'December': 12}\n",
    "data_bookdate.arrival_date_month=data_bookdate.arrival_date_month.map(class_mapping)"
   ]
  },
  {
   "cell_type": "code",
   "execution_count": 58,
   "metadata": {},
   "outputs": [],
   "source": [
    "data_bookdate['reservation_status_date']=pd.to_datetime(data_bookdate['reservation_status_date'])#转换为日期格式\n",
    "data_bookdate['reservation_status_date_year']=data_bookdate['reservation_status_date'].dt.year\n",
    "data_bookdate['reservation_status_date_month']=data_bookdate['reservation_status_date'].dt.month\n",
    "data_bookdate['reservation_status_date_day']=data_bookdate['reservation_status_date'].dt.day"
   ]
  },
  {
   "cell_type": "code",
   "execution_count": 59,
   "metadata": {},
   "outputs": [],
   "source": [
    "data_bookdate.drop(columns=['reservation_status_date'],inplace=True)"
   ]
  },
  {
   "cell_type": "code",
   "execution_count": 61,
   "metadata": {},
   "outputs": [
    {
     "data": {
      "text/html": [
       "<div>\n",
       "<style scoped>\n",
       "    .dataframe tbody tr th:only-of-type {\n",
       "        vertical-align: middle;\n",
       "    }\n",
       "\n",
       "    .dataframe tbody tr th {\n",
       "        vertical-align: top;\n",
       "    }\n",
       "\n",
       "    .dataframe thead th {\n",
       "        text-align: right;\n",
       "    }\n",
       "</style>\n",
       "<table border=\"1\" class=\"dataframe\">\n",
       "  <thead>\n",
       "    <tr style=\"text-align: right;\">\n",
       "      <th></th>\n",
       "      <th>arrival_date_year</th>\n",
       "      <th>arrival_date_month</th>\n",
       "      <th>arrival_date_day_of_month</th>\n",
       "      <th>reservation_status_date_year</th>\n",
       "      <th>reservation_status_date_month</th>\n",
       "      <th>reservation_status_date_day</th>\n",
       "    </tr>\n",
       "  </thead>\n",
       "  <tbody>\n",
       "    <tr>\n",
       "      <td>0</td>\n",
       "      <td>2015</td>\n",
       "      <td>7</td>\n",
       "      <td>1</td>\n",
       "      <td>2015</td>\n",
       "      <td>7</td>\n",
       "      <td>1</td>\n",
       "    </tr>\n",
       "    <tr>\n",
       "      <td>1</td>\n",
       "      <td>2015</td>\n",
       "      <td>7</td>\n",
       "      <td>1</td>\n",
       "      <td>2015</td>\n",
       "      <td>7</td>\n",
       "      <td>1</td>\n",
       "    </tr>\n",
       "    <tr>\n",
       "      <td>2</td>\n",
       "      <td>2015</td>\n",
       "      <td>7</td>\n",
       "      <td>1</td>\n",
       "      <td>2015</td>\n",
       "      <td>7</td>\n",
       "      <td>2</td>\n",
       "    </tr>\n",
       "    <tr>\n",
       "      <td>3</td>\n",
       "      <td>2015</td>\n",
       "      <td>7</td>\n",
       "      <td>1</td>\n",
       "      <td>2015</td>\n",
       "      <td>7</td>\n",
       "      <td>2</td>\n",
       "    </tr>\n",
       "    <tr>\n",
       "      <td>4</td>\n",
       "      <td>2015</td>\n",
       "      <td>7</td>\n",
       "      <td>1</td>\n",
       "      <td>2015</td>\n",
       "      <td>7</td>\n",
       "      <td>3</td>\n",
       "    </tr>\n",
       "    <tr>\n",
       "      <td>5</td>\n",
       "      <td>2015</td>\n",
       "      <td>7</td>\n",
       "      <td>1</td>\n",
       "      <td>2015</td>\n",
       "      <td>7</td>\n",
       "      <td>3</td>\n",
       "    </tr>\n",
       "    <tr>\n",
       "      <td>6</td>\n",
       "      <td>2015</td>\n",
       "      <td>7</td>\n",
       "      <td>1</td>\n",
       "      <td>2015</td>\n",
       "      <td>7</td>\n",
       "      <td>3</td>\n",
       "    </tr>\n",
       "    <tr>\n",
       "      <td>7</td>\n",
       "      <td>2015</td>\n",
       "      <td>7</td>\n",
       "      <td>1</td>\n",
       "      <td>2015</td>\n",
       "      <td>7</td>\n",
       "      <td>3</td>\n",
       "    </tr>\n",
       "    <tr>\n",
       "      <td>8</td>\n",
       "      <td>2015</td>\n",
       "      <td>7</td>\n",
       "      <td>1</td>\n",
       "      <td>2015</td>\n",
       "      <td>5</td>\n",
       "      <td>6</td>\n",
       "    </tr>\n",
       "    <tr>\n",
       "      <td>9</td>\n",
       "      <td>2015</td>\n",
       "      <td>7</td>\n",
       "      <td>1</td>\n",
       "      <td>2015</td>\n",
       "      <td>4</td>\n",
       "      <td>22</td>\n",
       "    </tr>\n",
       "  </tbody>\n",
       "</table>\n",
       "</div>"
      ],
      "text/plain": [
       "   arrival_date_year  arrival_date_month  arrival_date_day_of_month  \\\n",
       "0               2015                   7                          1   \n",
       "1               2015                   7                          1   \n",
       "2               2015                   7                          1   \n",
       "3               2015                   7                          1   \n",
       "4               2015                   7                          1   \n",
       "5               2015                   7                          1   \n",
       "6               2015                   7                          1   \n",
       "7               2015                   7                          1   \n",
       "8               2015                   7                          1   \n",
       "9               2015                   7                          1   \n",
       "\n",
       "   reservation_status_date_year  reservation_status_date_month  \\\n",
       "0                          2015                              7   \n",
       "1                          2015                              7   \n",
       "2                          2015                              7   \n",
       "3                          2015                              7   \n",
       "4                          2015                              7   \n",
       "5                          2015                              7   \n",
       "6                          2015                              7   \n",
       "7                          2015                              7   \n",
       "8                          2015                              5   \n",
       "9                          2015                              4   \n",
       "\n",
       "   reservation_status_date_day  \n",
       "0                            1  \n",
       "1                            1  \n",
       "2                            2  \n",
       "3                            2  \n",
       "4                            3  \n",
       "5                            3  \n",
       "6                            3  \n",
       "7                            3  \n",
       "8                            6  \n",
       "9                           22  "
      ]
     },
     "execution_count": 61,
     "metadata": {},
     "output_type": "execute_result"
    }
   ],
   "source": [
    "data_bookdate.head(10)"
   ]
  },
  {
   "cell_type": "code",
   "execution_count": 62,
   "metadata": {},
   "outputs": [],
   "source": [
    "import datetime"
   ]
  },
  {
   "cell_type": "code",
   "execution_count": 63,
   "metadata": {},
   "outputs": [],
   "source": [
    "book_days_list=[]\n",
    "for i in range(0, len(data_bookdate)):\n",
    "    a_date=datetime.date(data_bookdate.iloc[i]['arrival_date_year'],data_bookdate.iloc[i]['arrival_date_month'],data_bookdate.iloc[i]['arrival_date_day_of_month'])\n",
    "    r_date=datetime.date(data_bookdate.iloc[i]['reservation_status_date_year'],data_bookdate.iloc[i]['reservation_status_date_month'],data_bookdate.iloc[i]['reservation_status_date_day'])\n",
    "    book_days_list.append((r_date-a_date).days) #计算每条记录的入住时长"
   ]
  },
  {
   "cell_type": "code",
   "execution_count": 64,
   "metadata": {},
   "outputs": [],
   "source": [
    "book_days=pd.Series(book_days_list)"
   ]
  },
  {
   "cell_type": "code",
   "execution_count": 21,
   "metadata": {},
   "outputs": [
    {
     "data": {
      "text/plain": [
       " 1     15747\n",
       " 3     15723\n",
       " 2     15479\n",
       " 4     11024\n",
       " 7      5679\n",
       " 5      5119\n",
       " 0      2793\n",
       " 6      2322\n",
       " 10      780\n",
       " 8       719\n",
       "-3       718\n",
       " 14      654\n",
       "-6       636\n",
       "-1       630\n",
       "-5       603\n",
       "-7       599\n",
       "-11      593\n",
       "-4       581\n",
       "-16      531\n",
       " 9       526\n",
       "dtype: int64"
      ]
     },
     "execution_count": 21,
     "metadata": {},
     "output_type": "execute_result"
    }
   ],
   "source": [
    "book_days.value_counts()[0:20]"
   ]
  },
  {
   "cell_type": "code",
   "execution_count": 65,
   "metadata": {},
   "outputs": [
    {
     "data": {
      "text/plain": [
       "Text(0, 0.5, 'counts')"
      ]
     },
     "execution_count": 65,
     "metadata": {},
     "output_type": "execute_result"
    },
    {
     "data": {
      "image/png": "[encoded data removed]",
      "text/plain": [
       "<Figure size 1080x576 with 1 Axes>"
      ]
     },
     "metadata": {
      "needs_background": "light"
     },
     "output_type": "display_data"
    }
   ],
   "source": [
    "#绘制入住时长与对应记录数量的条形统计图\n",
    "plt.figure(figsize=(15, 8))\n",
    "plt.bar(book_days.value_counts()[0:20].index,book_days.value_counts()[0:20],width=0.5,color='red')\n",
    "plt.xlabel('reservation_date - arrive_date')  \n",
    "plt.ylabel('counts')  "
   ]
  },
  {
   "cell_type": "markdown",
   "metadata": {},
   "source": [
    "上图说明对于假日酒店和城市酒店，绝大部分人的入住时长都集中在0-10天之间。（入住时长为负是因为客户取消预订或未办理入住手续导致预订最后状态时间早于到达时间）"
   ]
  },
  {
   "cell_type": "markdown",
   "metadata": {},
   "source": [
    "### 2.3预定间隔分析"
   ]
  },
  {
   "cell_type": "code",
   "execution_count": 66,
   "metadata": {},
   "outputs": [],
   "source": [
    "data_repeat=pd.DataFrame( data_origin[['is_repeated_guest','agent','reservation_status_date']] )"
   ]
  },
  {
   "cell_type": "code",
   "execution_count": 67,
   "metadata": {},
   "outputs": [],
   "source": [
    "#以agent ID=240的客户为例：\n",
    "data_repeat=pd.DataFrame(data_repeat[(data_repeat.is_repeated_guest==1)&(data_repeat.agent==240) ] )"
   ]
  },
  {
   "cell_type": "code",
   "execution_count": 68,
   "metadata": {},
   "outputs": [],
   "source": [
    "data_repeat.drop_duplicates('reservation_status_date',inplace=True) #删除所有列值相同的记录"
   ]
  },
  {
   "cell_type": "code",
   "execution_count": 69,
   "metadata": {},
   "outputs": [],
   "source": [
    "data_repeat['reservation_status_date']=pd.to_datetime(data_repeat['reservation_status_date'])#转换为日期格式"
   ]
  },
  {
   "cell_type": "code",
   "execution_count": 70,
   "metadata": {},
   "outputs": [],
   "source": [
    "data_repeat['year']=data_repeat['reservation_status_date'].dt.year\n",
    "data_repeat['month']=data_repeat['reservation_status_date'].dt.month\n",
    "data_repeat['day']=data_repeat['reservation_status_date'].dt.day"
   ]
  },
  {
   "cell_type": "code",
   "execution_count": 71,
   "metadata": {},
   "outputs": [],
   "source": [
    "data_repeat.drop(columns=['reservation_status_date'],inplace=True)"
   ]
  },
  {
   "cell_type": "code",
   "execution_count": 72,
   "metadata": {},
   "outputs": [],
   "source": [
    "book_repeat_list=[]\n",
    "for i in range(0, len(data_repeat)):\n",
    "    repeat=datetime.date(int(data_repeat.iloc[i]['year']),int(data_repeat.iloc[i]['month']),int(data_repeat.iloc[i]['day']) )\n",
    "    book_repeat_list.append(repeat) "
   ]
  },
  {
   "cell_type": "code",
   "execution_count": 73,
   "metadata": {},
   "outputs": [],
   "source": [
    "book_repeat_list.sort() "
   ]
  },
  {
   "cell_type": "code",
   "execution_count": 74,
   "metadata": {},
   "outputs": [],
   "source": [
    "gap={}\n",
    "for index,i in enumerate(book_repeat_list):\n",
    "    if index==len(book_repeat_list)-1:\n",
    "        break\n",
    "    gap[index]= (book_repeat_list[index+1]-book_repeat_list[index]).days  "
   ]
  },
  {
   "cell_type": "code",
   "execution_count": 81,
   "metadata": {},
   "outputs": [
    {
     "data": {
      "text/plain": [
       "Text(0, 0.5, 'gap numbers')"
      ]
     },
     "execution_count": 81,
     "metadata": {},
     "output_type": "execute_result"
    },
    {
     "data": {
      "image/png": "[encoded data removed]",
      "text/plain": [
       "<Figure size 1080x576 with 1 Axes>"
      ]
     },
     "metadata": {
      "needs_background": "light"
     },
     "output_type": "display_data"
    }
   ],
   "source": [
    "#绘制每次预订相隔天数的折线图\n",
    "plt.figure(figsize=(15, 8))\n",
    "plt.plot(list(gap.keys()),list(gap.values()),'g.-')\n",
    "plt.xlabel('number of times')  \n",
    "plt.ylabel('gap numbers') "
   ]
  },
  {
   "cell_type": "code",
   "execution_count": 82,
   "metadata": {},
   "outputs": [],
   "source": [
    "### 2.4.餐食预订情况分析"
   ]
  },
  {
   "cell_type": "code",
   "execution_count": 87,
   "metadata": {},
   "outputs": [
    {
     "data": {
      "text/plain": [
       "Text(0.5, 1.0, 'comparison of meal')"
      ]
     },
     "execution_count": 87,
     "metadata": {},
     "output_type": "execute_result"
    },
    {
     "data": {
      "image/png": "[encoded data removed]",
      "text/plain": [
       "<Figure size 1080x576 with 1 Axes>"
      ]
     },
     "metadata": {
      "needs_background": "light"
     },
     "output_type": "display_data"
    }
   ],
   "source": [
    "#订餐类型比较\n",
    "bar_width = 0.3 # 条形宽度\n",
    "index_rh = np.arange(len(data_rh.meal.value_counts().index))  \n",
    "index_ch = index_rh + bar_width  \n",
    "plt.figure(figsize=(15, 8))\n",
    "plt.bar(index_rh,data_rh.meal.value_counts(),width=bar_width,color='gray', label='Resort Hotel')\n",
    "plt.bar(index_ch,data_ch.meal.value_counts(),width=bar_width,color='pink', label='City Hotel')\n",
    "plt.legend()  \n",
    "plt.xticks(index_rh + bar_width/2, data_rh.meal.value_counts().index)  # 让横坐标轴刻度显示data_rh.meal.value_counts().index， index_rh + bar_width/2 为横坐标轴刻度的位置\n",
    "plt.xlabel('meal')  \n",
    "plt.ylabel('numbers') \n",
    "plt.title('comparison of meal')  "
   ]
  },
  {
   "cell_type": "markdown",
   "metadata": {},
   "source": [
    "上图说明在城市酒店居住的客户比在假日酒店居住的客户的订餐需求更高；且绝大部分客户选择只预订早餐（即BB）"
   ]
  },
  {
   "cell_type": "markdown",
   "metadata": {},
   "source": [
    "# 3.一年中最佳预订酒店时间分析"
   ]
  },
  {
   "cell_type": "code",
   "execution_count": 109,
   "metadata": {},
   "outputs": [],
   "source": [
    "data_bestBooking=pd.DataFrame(data_origin[['hotel','is_canceled','arrival_date_year','arrival_date_month','arrival_date_day_of_month']])"
   ]
  },
  {
   "cell_type": "code",
   "execution_count": 110,
   "metadata": {},
   "outputs": [],
   "source": [
    "#首先看假日酒店和城市酒店的最佳预订月份\n",
    "data_bestBooking_rh=data_bestBooking[(data_bestBooking.hotel=='Resort Hotel')&(data_bestBooking.is_canceled==0)]\n",
    "data_bestBooking_ch=data_bestBooking[(data_bestBooking.hotel=='City Hotel')&(data_bestBooking.is_canceled==0)]"
   ]
  },
  {
   "cell_type": "code",
   "execution_count": 111,
   "metadata": {},
   "outputs": [
    {
     "data": {
      "text/plain": [
       "Text(0.5, 1.0, 'Resort Hotel V.S. City Hotel')"
      ]
     },
     "execution_count": 111,
     "metadata": {},
     "output_type": "execute_result"
    },
    {
     "data": {
      "image/png": "[encoded data removed]",
      "text/plain": [
       "<Figure size 1440x576 with 1 Axes>"
      ]
     },
     "metadata": {
      "needs_background": "light"
     },
     "output_type": "display_data"
    }
   ],
   "source": [
    "plt.figure(figsize=(20, 8))\n",
    "rh_arrival_month=data_bestBooking_rh.arrival_date_month.value_counts()\n",
    "rh_arrival_month=pd.Series(rh_arrival_month,index=['January','February','March','April','May','June','July','August','September','October','November','December'])\n",
    "ch_arrival_month=data_bestBooking_ch.arrival_date_month.value_counts()\n",
    "ch_arrival_month=pd.Series(ch_arrival_month,index=['January','February','March','April','May','June','July','August','September','October','November','December'])\n",
    "bar_width=0.4\n",
    "x=np.arange(12)\n",
    "plt.bar(x,rh_arrival_month,bar_width,color='pink', label='Resort Hotel')\n",
    "plt.bar(x+bar_width,ch_arrival_month,bar_width,color='gray', label='City Hotel')\n",
    "plt.xlabel('booking month')\n",
    "plt.ylabel('numbers') \n",
    "plt.xticks(x+bar_width/2,ch_arrival_month.index)\n",
    "plt.legend(['Resort Hotel','City Hotel'])\n",
    "plt.title('Resort Hotel V.S. City Hotel')  "
   ]
  },
  {
   "cell_type": "markdown",
   "metadata": {},
   "source": [
    "上图表明无论是假日酒店还是城市酒店的最佳预订月份均为8月（August）,下面看最佳预订日期"
   ]
  },
  {
   "cell_type": "code",
   "execution_count": 113,
   "metadata": {},
   "outputs": [],
   "source": [
    "data_bestBooking_rh_day=data_bestBooking[(data_bestBooking.hotel=='Resort Hotel')&(data_bestBooking.is_canceled==0)&(data_bestBooking.arrival_date_month=='August')]\n",
    "data_bestBooking_ch_day=data_bestBooking[(data_bestBooking.hotel=='City Hotel')&(data_bestBooking.is_canceled==0)&(data_bestBooking.arrival_date_month=='August')]"
   ]
  },
  {
   "cell_type": "code",
   "execution_count": 114,
   "metadata": {},
   "outputs": [
    {
     "data": {
      "text/plain": [
       "Text(0.5, 1.0, 'City Hotel')"
      ]
     },
     "execution_count": 114,
     "metadata": {},
     "output_type": "execute_result"
    },
    {
     "data": {
      "image/png": "[encoded data removed]",
      "text/plain": [
       "<Figure size 1440x576 with 2 Axes>"
      ]
     },
     "metadata": {
      "needs_background": "light"
     },
     "output_type": "display_data"
    }
   ],
   "source": [
    "plt.figure(figsize=(20, 8))\n",
    "plt.subplot(1,2,1)\n",
    "plt.bar(data_bestBooking_rh_day.arrival_date_day_of_month.value_counts()[0:10].index,data_bestBooking_rh.arrival_date_day_of_month.value_counts()[0:10],width=0.6,color='pink', label='Resort Hotel')\n",
    "plt.xlabel('booking day')\n",
    "plt.ylabel('numbers') \n",
    "plt.title('Resort Hotel')  \n",
    "plt.subplot(1,2,2)\n",
    "plt.bar(data_bestBooking_ch_day.arrival_date_day_of_month.value_counts()[0:10].index,data_bestBooking_ch.arrival_date_day_of_month.value_counts()[0:10],width=0.6,color='gray', label='City Hotel')\n",
    "plt.xlabel('booking day')\n",
    "plt.ylabel('numbers') \n",
    "plt.title('City Hotel')  "
   ]
  },
  {
   "cell_type": "markdown",
   "metadata": {},
   "source": [
    "上图表明假日酒店的一年中最佳预订时间为8月1日；城市酒店一年中最佳预订时间为8月12日"
   ]
  },
  {
   "cell_type": "markdown",
   "metadata": {},
   "source": [
    "# 4.利用LogisticRegression预测酒店预订状态 "
   ]
  },
  {
   "cell_type": "markdown",
   "metadata": {},
   "source": [
    "### 利用数据信息预测酒店预订的最后状态   \n",
    "0-客户已入住并退房   \n",
    "1--预定取消  \n",
    "2--客人未办理入住手续 "
   ]
  },
  {
   "cell_type": "code",
   "execution_count": 115,
   "metadata": {},
   "outputs": [],
   "source": [
    "from sklearn.linear_model import LogisticRegression\n",
    "from sklearn.model_selection import train_test_split"
   ]
  },
  {
   "cell_type": "code",
   "execution_count": 116,
   "metadata": {},
   "outputs": [],
   "source": [
    "data_LR=pd.DataFrame(data_origin[['hotel','is_canceled','lead_time','adults','children','babies','meal','previous_cancellations','previous_bookings_not_canceled','booking_changes','adr','reservation_status']])"
   ]
  },
  {
   "cell_type": "code",
   "execution_count": 117,
   "metadata": {},
   "outputs": [],
   "source": [
    "data_LR.replace('Undefined','SC',inplace=True) #将meal一列值为Undefined全部替换为SC"
   ]
  },
  {
   "cell_type": "code",
   "execution_count": 118,
   "metadata": {},
   "outputs": [],
   "source": [
    "class_mapping1 = {'Resort Hotel': 0,'City Hotel':1}\n",
    "class_mapping2 = {'Check-Out':0,'Canceled':1,'No-Show':2}\n",
    "data_LR.hotel=data_LR.hotel.map(class_mapping1)\n",
    "data_LR.reservation_status=data_LR.reservation_status.map(class_mapping2)"
   ]
  },
  {
   "cell_type": "code",
   "execution_count": 119,
   "metadata": {},
   "outputs": [],
   "source": [
    "meal_onehot=pd.get_dummies(data_LR.meal) "
   ]
  },
  {
   "cell_type": "code",
   "execution_count": 121,
   "metadata": {},
   "outputs": [
    {
     "data": {
      "text/html": [
       "<div>\n",
       "<style scoped>\n",
       "    .dataframe tbody tr th:only-of-type {\n",
       "        vertical-align: middle;\n",
       "    }\n",
       "\n",
       "    .dataframe tbody tr th {\n",
       "        vertical-align: top;\n",
       "    }\n",
       "\n",
       "    .dataframe thead th {\n",
       "        text-align: right;\n",
       "    }\n",
       "</style>\n",
       "<table border=\"1\" class=\"dataframe\">\n",
       "  <thead>\n",
       "    <tr style=\"text-align: right;\">\n",
       "      <th></th>\n",
       "      <th>arrival_date_year</th>\n",
       "      <th>arrival_date_month</th>\n",
       "      <th>arrival_date_day_of_month</th>\n",
       "      <th>reservation_status_date_year</th>\n",
       "      <th>reservation_status_date_month</th>\n",
       "      <th>reservation_status_date_day</th>\n",
       "    </tr>\n",
       "  </thead>\n",
       "  <tbody>\n",
       "    <tr>\n",
       "      <td>0</td>\n",
       "      <td>2015</td>\n",
       "      <td>7</td>\n",
       "      <td>1</td>\n",
       "      <td>2015</td>\n",
       "      <td>7</td>\n",
       "      <td>1</td>\n",
       "    </tr>\n",
       "    <tr>\n",
       "      <td>1</td>\n",
       "      <td>2015</td>\n",
       "      <td>7</td>\n",
       "      <td>1</td>\n",
       "      <td>2015</td>\n",
       "      <td>7</td>\n",
       "      <td>1</td>\n",
       "    </tr>\n",
       "    <tr>\n",
       "      <td>2</td>\n",
       "      <td>2015</td>\n",
       "      <td>7</td>\n",
       "      <td>1</td>\n",
       "      <td>2015</td>\n",
       "      <td>7</td>\n",
       "      <td>2</td>\n",
       "    </tr>\n",
       "    <tr>\n",
       "      <td>3</td>\n",
       "      <td>2015</td>\n",
       "      <td>7</td>\n",
       "      <td>1</td>\n",
       "      <td>2015</td>\n",
       "      <td>7</td>\n",
       "      <td>2</td>\n",
       "    </tr>\n",
       "    <tr>\n",
       "      <td>4</td>\n",
       "      <td>2015</td>\n",
       "      <td>7</td>\n",
       "      <td>1</td>\n",
       "      <td>2015</td>\n",
       "      <td>7</td>\n",
       "      <td>3</td>\n",
       "    </tr>\n",
       "    <tr>\n",
       "      <td>5</td>\n",
       "      <td>2015</td>\n",
       "      <td>7</td>\n",
       "      <td>1</td>\n",
       "      <td>2015</td>\n",
       "      <td>7</td>\n",
       "      <td>3</td>\n",
       "    </tr>\n",
       "    <tr>\n",
       "      <td>6</td>\n",
       "      <td>2015</td>\n",
       "      <td>7</td>\n",
       "      <td>1</td>\n",
       "      <td>2015</td>\n",
       "      <td>7</td>\n",
       "      <td>3</td>\n",
       "    </tr>\n",
       "    <tr>\n",
       "      <td>7</td>\n",
       "      <td>2015</td>\n",
       "      <td>7</td>\n",
       "      <td>1</td>\n",
       "      <td>2015</td>\n",
       "      <td>7</td>\n",
       "      <td>3</td>\n",
       "    </tr>\n",
       "    <tr>\n",
       "      <td>8</td>\n",
       "      <td>2015</td>\n",
       "      <td>7</td>\n",
       "      <td>1</td>\n",
       "      <td>2015</td>\n",
       "      <td>5</td>\n",
       "      <td>6</td>\n",
       "    </tr>\n",
       "    <tr>\n",
       "      <td>9</td>\n",
       "      <td>2015</td>\n",
       "      <td>7</td>\n",
       "      <td>1</td>\n",
       "      <td>2015</td>\n",
       "      <td>4</td>\n",
       "      <td>22</td>\n",
       "    </tr>\n",
       "  </tbody>\n",
       "</table>\n",
       "</div>"
      ],
      "text/plain": [
       "   arrival_date_year  arrival_date_month  arrival_date_day_of_month  \\\n",
       "0               2015                   7                          1   \n",
       "1               2015                   7                          1   \n",
       "2               2015                   7                          1   \n",
       "3               2015                   7                          1   \n",
       "4               2015                   7                          1   \n",
       "5               2015                   7                          1   \n",
       "6               2015                   7                          1   \n",
       "7               2015                   7                          1   \n",
       "8               2015                   7                          1   \n",
       "9               2015                   7                          1   \n",
       "\n",
       "   reservation_status_date_year  reservation_status_date_month  \\\n",
       "0                          2015                              7   \n",
       "1                          2015                              7   \n",
       "2                          2015                              7   \n",
       "3                          2015                              7   \n",
       "4                          2015                              7   \n",
       "5                          2015                              7   \n",
       "6                          2015                              7   \n",
       "7                          2015                              7   \n",
       "8                          2015                              5   \n",
       "9                          2015                              4   \n",
       "\n",
       "   reservation_status_date_day  \n",
       "0                            1  \n",
       "1                            1  \n",
       "2                            2  \n",
       "3                            2  \n",
       "4                            3  \n",
       "5                            3  \n",
       "6                            3  \n",
       "7                            3  \n",
       "8                            6  \n",
       "9                           22  "
      ]
     },
     "execution_count": 121,
     "metadata": {},
     "output_type": "execute_result"
    }
   ],
   "source": [
    "data_bookdate.head(10)"
   ]
  },
  {
   "cell_type": "code",
   "execution_count": 122,
   "metadata": {},
   "outputs": [],
   "source": [
    "data_LR=pd.concat([data_LR,meal_onehot,data_bookdate],axis = 1)"
   ]
  },
  {
   "cell_type": "code",
   "execution_count": 123,
   "metadata": {},
   "outputs": [],
   "source": [
    "data_LR.drop(['meal'], axis=1,inplace=True)"
   ]
  },
  {
   "cell_type": "code",
   "execution_count": 124,
   "metadata": {},
   "outputs": [],
   "source": [
    "data_LR.adr=data_LR.adr.astype('int')"
   ]
  },
  {
   "cell_type": "code",
   "execution_count": 125,
   "metadata": {},
   "outputs": [],
   "source": [
    "data_LR.dropna(inplace=True)"
   ]
  },
  {
   "cell_type": "code",
   "execution_count": 127,
   "metadata": {},
   "outputs": [
    {
     "data": {
      "text/html": [
       "<div>\n",
       "<style scoped>\n",
       "    .dataframe tbody tr th:only-of-type {\n",
       "        vertical-align: middle;\n",
       "    }\n",
       "\n",
       "    .dataframe tbody tr th {\n",
       "        vertical-align: top;\n",
       "    }\n",
       "\n",
       "    .dataframe thead th {\n",
       "        text-align: right;\n",
       "    }\n",
       "</style>\n",
       "<table border=\"1\" class=\"dataframe\">\n",
       "  <thead>\n",
       "    <tr style=\"text-align: right;\">\n",
       "      <th></th>\n",
       "      <th>hotel</th>\n",
       "      <th>is_canceled</th>\n",
       "      <th>lead_time</th>\n",
       "      <th>adults</th>\n",
       "      <th>children</th>\n",
       "      <th>babies</th>\n",
       "      <th>previous_cancellations</th>\n",
       "      <th>previous_bookings_not_canceled</th>\n",
       "      <th>booking_changes</th>\n",
       "      <th>adr</th>\n",
       "      <th>...</th>\n",
       "      <th>BB</th>\n",
       "      <th>FB</th>\n",
       "      <th>HB</th>\n",
       "      <th>SC</th>\n",
       "      <th>arrival_date_year</th>\n",
       "      <th>arrival_date_month</th>\n",
       "      <th>arrival_date_day_of_month</th>\n",
       "      <th>reservation_status_date_year</th>\n",
       "      <th>reservation_status_date_month</th>\n",
       "      <th>reservation_status_date_day</th>\n",
       "    </tr>\n",
       "  </thead>\n",
       "  <tbody>\n",
       "    <tr>\n",
       "      <td>0</td>\n",
       "      <td>0</td>\n",
       "      <td>0</td>\n",
       "      <td>342</td>\n",
       "      <td>2</td>\n",
       "      <td>0.0</td>\n",
       "      <td>0</td>\n",
       "      <td>0</td>\n",
       "      <td>0</td>\n",
       "      <td>3</td>\n",
       "      <td>0</td>\n",
       "      <td>...</td>\n",
       "      <td>1</td>\n",
       "      <td>0</td>\n",
       "      <td>0</td>\n",
       "      <td>0</td>\n",
       "      <td>2015</td>\n",
       "      <td>7</td>\n",
       "      <td>1</td>\n",
       "      <td>2015</td>\n",
       "      <td>7</td>\n",
       "      <td>1</td>\n",
       "    </tr>\n",
       "    <tr>\n",
       "      <td>1</td>\n",
       "      <td>0</td>\n",
       "      <td>0</td>\n",
       "      <td>737</td>\n",
       "      <td>2</td>\n",
       "      <td>0.0</td>\n",
       "      <td>0</td>\n",
       "      <td>0</td>\n",
       "      <td>0</td>\n",
       "      <td>4</td>\n",
       "      <td>0</td>\n",
       "      <td>...</td>\n",
       "      <td>1</td>\n",
       "      <td>0</td>\n",
       "      <td>0</td>\n",
       "      <td>0</td>\n",
       "      <td>2015</td>\n",
       "      <td>7</td>\n",
       "      <td>1</td>\n",
       "      <td>2015</td>\n",
       "      <td>7</td>\n",
       "      <td>1</td>\n",
       "    </tr>\n",
       "    <tr>\n",
       "      <td>2</td>\n",
       "      <td>0</td>\n",
       "      <td>0</td>\n",
       "      <td>7</td>\n",
       "      <td>1</td>\n",
       "      <td>0.0</td>\n",
       "      <td>0</td>\n",
       "      <td>0</td>\n",
       "      <td>0</td>\n",
       "      <td>0</td>\n",
       "      <td>75</td>\n",
       "      <td>...</td>\n",
       "      <td>1</td>\n",
       "      <td>0</td>\n",
       "      <td>0</td>\n",
       "      <td>0</td>\n",
       "      <td>2015</td>\n",
       "      <td>7</td>\n",
       "      <td>1</td>\n",
       "      <td>2015</td>\n",
       "      <td>7</td>\n",
       "      <td>2</td>\n",
       "    </tr>\n",
       "    <tr>\n",
       "      <td>3</td>\n",
       "      <td>0</td>\n",
       "      <td>0</td>\n",
       "      <td>13</td>\n",
       "      <td>1</td>\n",
       "      <td>0.0</td>\n",
       "      <td>0</td>\n",
       "      <td>0</td>\n",
       "      <td>0</td>\n",
       "      <td>0</td>\n",
       "      <td>75</td>\n",
       "      <td>...</td>\n",
       "      <td>1</td>\n",
       "      <td>0</td>\n",
       "      <td>0</td>\n",
       "      <td>0</td>\n",
       "      <td>2015</td>\n",
       "      <td>7</td>\n",
       "      <td>1</td>\n",
       "      <td>2015</td>\n",
       "      <td>7</td>\n",
       "      <td>2</td>\n",
       "    </tr>\n",
       "    <tr>\n",
       "      <td>4</td>\n",
       "      <td>0</td>\n",
       "      <td>0</td>\n",
       "      <td>14</td>\n",
       "      <td>2</td>\n",
       "      <td>0.0</td>\n",
       "      <td>0</td>\n",
       "      <td>0</td>\n",
       "      <td>0</td>\n",
       "      <td>0</td>\n",
       "      <td>98</td>\n",
       "      <td>...</td>\n",
       "      <td>1</td>\n",
       "      <td>0</td>\n",
       "      <td>0</td>\n",
       "      <td>0</td>\n",
       "      <td>2015</td>\n",
       "      <td>7</td>\n",
       "      <td>1</td>\n",
       "      <td>2015</td>\n",
       "      <td>7</td>\n",
       "      <td>3</td>\n",
       "    </tr>\n",
       "    <tr>\n",
       "      <td>5</td>\n",
       "      <td>0</td>\n",
       "      <td>0</td>\n",
       "      <td>14</td>\n",
       "      <td>2</td>\n",
       "      <td>0.0</td>\n",
       "      <td>0</td>\n",
       "      <td>0</td>\n",
       "      <td>0</td>\n",
       "      <td>0</td>\n",
       "      <td>98</td>\n",
       "      <td>...</td>\n",
       "      <td>1</td>\n",
       "      <td>0</td>\n",
       "      <td>0</td>\n",
       "      <td>0</td>\n",
       "      <td>2015</td>\n",
       "      <td>7</td>\n",
       "      <td>1</td>\n",
       "      <td>2015</td>\n",
       "      <td>7</td>\n",
       "      <td>3</td>\n",
       "    </tr>\n",
       "    <tr>\n",
       "      <td>6</td>\n",
       "      <td>0</td>\n",
       "      <td>0</td>\n",
       "      <td>0</td>\n",
       "      <td>2</td>\n",
       "      <td>0.0</td>\n",
       "      <td>0</td>\n",
       "      <td>0</td>\n",
       "      <td>0</td>\n",
       "      <td>0</td>\n",
       "      <td>107</td>\n",
       "      <td>...</td>\n",
       "      <td>1</td>\n",
       "      <td>0</td>\n",
       "      <td>0</td>\n",
       "      <td>0</td>\n",
       "      <td>2015</td>\n",
       "      <td>7</td>\n",
       "      <td>1</td>\n",
       "      <td>2015</td>\n",
       "      <td>7</td>\n",
       "      <td>3</td>\n",
       "    </tr>\n",
       "    <tr>\n",
       "      <td>7</td>\n",
       "      <td>0</td>\n",
       "      <td>0</td>\n",
       "      <td>9</td>\n",
       "      <td>2</td>\n",
       "      <td>0.0</td>\n",
       "      <td>0</td>\n",
       "      <td>0</td>\n",
       "      <td>0</td>\n",
       "      <td>0</td>\n",
       "      <td>103</td>\n",
       "      <td>...</td>\n",
       "      <td>0</td>\n",
       "      <td>1</td>\n",
       "      <td>0</td>\n",
       "      <td>0</td>\n",
       "      <td>2015</td>\n",
       "      <td>7</td>\n",
       "      <td>1</td>\n",
       "      <td>2015</td>\n",
       "      <td>7</td>\n",
       "      <td>3</td>\n",
       "    </tr>\n",
       "    <tr>\n",
       "      <td>8</td>\n",
       "      <td>0</td>\n",
       "      <td>1</td>\n",
       "      <td>85</td>\n",
       "      <td>2</td>\n",
       "      <td>0.0</td>\n",
       "      <td>0</td>\n",
       "      <td>0</td>\n",
       "      <td>0</td>\n",
       "      <td>0</td>\n",
       "      <td>82</td>\n",
       "      <td>...</td>\n",
       "      <td>1</td>\n",
       "      <td>0</td>\n",
       "      <td>0</td>\n",
       "      <td>0</td>\n",
       "      <td>2015</td>\n",
       "      <td>7</td>\n",
       "      <td>1</td>\n",
       "      <td>2015</td>\n",
       "      <td>5</td>\n",
       "      <td>6</td>\n",
       "    </tr>\n",
       "    <tr>\n",
       "      <td>9</td>\n",
       "      <td>0</td>\n",
       "      <td>1</td>\n",
       "      <td>75</td>\n",
       "      <td>2</td>\n",
       "      <td>0.0</td>\n",
       "      <td>0</td>\n",
       "      <td>0</td>\n",
       "      <td>0</td>\n",
       "      <td>0</td>\n",
       "      <td>105</td>\n",
       "      <td>...</td>\n",
       "      <td>0</td>\n",
       "      <td>0</td>\n",
       "      <td>1</td>\n",
       "      <td>0</td>\n",
       "      <td>2015</td>\n",
       "      <td>7</td>\n",
       "      <td>1</td>\n",
       "      <td>2015</td>\n",
       "      <td>4</td>\n",
       "      <td>22</td>\n",
       "    </tr>\n",
       "  </tbody>\n",
       "</table>\n",
       "<p>10 rows × 21 columns</p>\n",
       "</div>"
      ],
      "text/plain": [
       "   hotel  is_canceled  lead_time  adults  children  babies  \\\n",
       "0      0            0        342       2       0.0       0   \n",
       "1      0            0        737       2       0.0       0   \n",
       "2      0            0          7       1       0.0       0   \n",
       "3      0            0         13       1       0.0       0   \n",
       "4      0            0         14       2       0.0       0   \n",
       "5      0            0         14       2       0.0       0   \n",
       "6      0            0          0       2       0.0       0   \n",
       "7      0            0          9       2       0.0       0   \n",
       "8      0            1         85       2       0.0       0   \n",
       "9      0            1         75       2       0.0       0   \n",
       "\n",
       "   previous_cancellations  previous_bookings_not_canceled  booking_changes  \\\n",
       "0                       0                               0                3   \n",
       "1                       0                               0                4   \n",
       "2                       0                               0                0   \n",
       "3                       0                               0                0   \n",
       "4                       0                               0                0   \n",
       "5                       0                               0                0   \n",
       "6                       0                               0                0   \n",
       "7                       0                               0                0   \n",
       "8                       0                               0                0   \n",
       "9                       0                               0                0   \n",
       "\n",
       "   adr  ...  BB  FB  HB  SC  arrival_date_year  arrival_date_month  \\\n",
       "0    0  ...   1   0   0   0               2015                   7   \n",
       "1    0  ...   1   0   0   0               2015                   7   \n",
       "2   75  ...   1   0   0   0               2015                   7   \n",
       "3   75  ...   1   0   0   0               2015                   7   \n",
       "4   98  ...   1   0   0   0               2015                   7   \n",
       "5   98  ...   1   0   0   0               2015                   7   \n",
       "6  107  ...   1   0   0   0               2015                   7   \n",
       "7  103  ...   0   1   0   0               2015                   7   \n",
       "8   82  ...   1   0   0   0               2015                   7   \n",
       "9  105  ...   0   0   1   0               2015                   7   \n",
       "\n",
       "   arrival_date_day_of_month  reservation_status_date_year  \\\n",
       "0                          1                          2015   \n",
       "1                          1                          2015   \n",
       "2                          1                          2015   \n",
       "3                          1                          2015   \n",
       "4                          1                          2015   \n",
       "5                          1                          2015   \n",
       "6                          1                          2015   \n",
       "7                          1                          2015   \n",
       "8                          1                          2015   \n",
       "9                          1                          2015   \n",
       "\n",
       "   reservation_status_date_month  reservation_status_date_day  \n",
       "0                              7                            1  \n",
       "1                              7                            1  \n",
       "2                              7                            2  \n",
       "3                              7                            2  \n",
       "4                              7                            3  \n",
       "5                              7                            3  \n",
       "6                              7                            3  \n",
       "7                              7                            3  \n",
       "8                              5                            6  \n",
       "9                              4                           22  \n",
       "\n",
       "[10 rows x 21 columns]"
      ]
     },
     "execution_count": 127,
     "metadata": {},
     "output_type": "execute_result"
    }
   ],
   "source": [
    "data_LR.head(10)"
   ]
  },
  {
   "cell_type": "code",
   "execution_count": 128,
   "metadata": {},
   "outputs": [],
   "source": [
    "y = data_LR['reservation_status']  #用reservation_status一列的值做标签\n",
    "x = data_LR.drop('reservation_status',axis=1)\n",
    "X_train,X_test,y_train,y_test = train_test_split(x,y,test_size=0.25,random_state=1)"
   ]
  },
  {
   "cell_type": "code",
   "execution_count": 129,
   "metadata": {},
   "outputs": [
    {
     "name": "stderr",
     "output_type": "stream",
     "text": [
      "C:\\Users\\zx\\Anaconda3\\lib\\site-packages\\sklearn\\linear_model\\logistic.py:432: FutureWarning: Default solver will be changed to 'lbfgs' in 0.22. Specify a solver to silence this warning.\n",
      "  FutureWarning)\n",
      "C:\\Users\\zx\\Anaconda3\\lib\\site-packages\\sklearn\\linear_model\\logistic.py:469: FutureWarning: Default multi_class will be changed to 'auto' in 0.22. Specify the multi_class option to silence this warning.\n",
      "  \"this warning.\", FutureWarning)\n"
     ]
    }
   ],
   "source": [
    "logreg=LogisticRegression().fit(X_train,y_train)"
   ]
  },
  {
   "cell_type": "code",
   "execution_count": 130,
   "metadata": {},
   "outputs": [
    {
     "name": "stdout",
     "output_type": "stream",
     "text": [
      "Training set score:0.9895\n"
     ]
    }
   ],
   "source": [
    "print(\"Training set score:{:.4f}\".format(logreg.score(X_train,y_train)))"
   ]
  },
  {
   "cell_type": "code",
   "execution_count": 131,
   "metadata": {},
   "outputs": [
    {
     "name": "stdout",
     "output_type": "stream",
     "text": [
      "Test set score:0.9906\n"
     ]
    }
   ],
   "source": [
    "print(\"Test set score:{:.4f}\".format(logreg.score(X_test,y_test)))"
   ]
  },
  {
   "cell_type": "markdown",
   "metadata": {},
   "source": [
    "绘制在C=1时，Logistic回归在该数据集上学到的系数"
   ]
  },
  {
   "cell_type": "code",
   "execution_count": 132,
   "metadata": {},
   "outputs": [
    {
     "data": {
      "text/plain": [
       "Text(0, 0.5, 'para values')"
      ]
     },
     "execution_count": 132,
     "metadata": {},
     "output_type": "execute_result"
    },
    {
     "data": {
      "image/png": "[encoded data removed]",
      "text/plain": [
       "<Figure size 864x576 with 1 Axes>"
      ]
     },
     "metadata": {
      "needs_background": "light"
     },
     "output_type": "display_data"
    }
   ],
   "source": [
    "plt.figure(figsize=(12, 8))\n",
    "plt.plot(logreg.coef_.T,'v')\n",
    "plt.xticks(range(x.shape[1]),x.columns,rotation=90)\n",
    "plt.ylim(-5,5)\n",
    "plt.xlabel('columns names')\n",
    "plt.ylabel('para values')"
   ]
  }
 ],
 "metadata": {
  "kernelspec": {
   "display_name": "Python 3",
   "language": "python",
   "name": "python3"
  },
  "language_info": {
   "codemirror_mode": {
    "name": "ipython",
    "version": 3
   },
   "file_extension": ".py",
   "mimetype": "text/x-python",
   "name": "python",
   "nbconvert_exporter": "python",
   "pygments_lexer": "ipython3",
   "version": "3.7.4"
  }
 },
 "nbformat": 4,
 "nbformat_minor": 2
}
